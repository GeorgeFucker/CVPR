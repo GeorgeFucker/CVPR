{
 "cells": [
  {
   "cell_type": "code",
   "execution_count": 2,
   "metadata": {
    "collapsed": true
   },
   "outputs": [],
   "source": [
    "import cv2\n",
    "import numpy as np"
   ]
  },
  {
   "cell_type": "code",
   "execution_count": 15,
   "metadata": {},
   "outputs": [],
   "source": [
    "cap = cv2.VideoCapture(0)\n",
    "\n",
    "while True:\n",
    "    # Get capture\n",
    "    ret, frame = cap.read()\n",
    "    \n",
    "    # Show capture\n",
    "    cv2.imshow('frame', frame)\n",
    "    \n",
    "    # If pressed 'space' -> save image and stop capturing\n",
    "    if cv2.waitKey(1) & 0xFF == ord(' '):\n",
    "        cv2.imwrite('foto.jpeg', frame)\n",
    "        break\n",
    "\n",
    "# Release capture and destroy windows\n",
    "cap.release()\n",
    "cv2.destroyAllWindows()        "
   ]
  },
  {
   "cell_type": "code",
   "execution_count": null,
   "metadata": {},
   "outputs": [],
   "source": [
    "# Read image from disk in grayscale\n",
    "img = cv2.imread('foto.jpeg', cv2.IMREAD_GRAYSCALE)\n",
    "\n",
    "# Define image shape\n",
    "img_width, img_height = img.shape\n",
    "\n",
    "# Define color of the line and reacntangle\n",
    "line_color = tuple(np.random.random(3) * 255)\n",
    "rectangle_color = tuple(np.random.random(3) * 255)\n",
    "\n",
    "# Define height and width of rectangle\n",
    "rectangle_height = np.random.randint(0, 255)\n",
    "rectangle_width = np.random.randint(0, 255)\n",
    "\n",
    "# Defint coordinates of the corners of rectangle\n",
    "rectangle_start = ((img_height - rectangle_height) // 2, (img_width - rectangle_width) // 2)\n",
    "rectangle_end = (rectangle_start[0] + rectangle_height, rectangle_start[1] + rectangle_width)\n",
    "\n",
    "#cv2.namedWindow('foto', cv2.WINDOW_NORMAL)\n",
    "cv2.imshow('foto', img)\n",
    "img = cv2.line(img, (0, 0), (img_height, img_width), line_color, 5)\n",
    "img = cv2.rectangle(img, rectangle_start, rectangle_end, rectangle_color, 5)\n",
    "cv2.imshow('foto', img)\n",
    "cv2.waitKey(0)\n",
    "cv2.destroyAllWindows()"
   ]
  },
  {
   "cell_type": "code",
   "execution_count": null,
   "metadata": {},
   "outputs": [],
   "source": [
    "img_height"
   ]
  },
  {
   "cell_type": "code",
   "execution_count": 10,
   "metadata": {},
   "outputs": [
    {
     "data": {
      "text/plain": [
       "tuple"
      ]
     },
     "execution_count": 10,
     "metadata": {},
     "output_type": "execute_result"
    }
   ],
   "source": [
    "type((1, 2, 3))"
   ]
  },
  {
   "cell_type": "code",
   "execution_count": null,
   "metadata": {
    "collapsed": true
   },
   "outputs": [],
   "source": []
  }
 ],
 "metadata": {
  "kernelspec": {
   "display_name": "Python 3",
   "language": "python",
   "name": "python3"
  },
  "language_info": {
   "codemirror_mode": {
    "name": "ipython",
    "version": 3
   },
   "file_extension": ".py",
   "mimetype": "text/x-python",
   "name": "python",
   "nbconvert_exporter": "python",
   "pygments_lexer": "ipython3",
   "version": "3.6.3"
  }
 },
 "nbformat": 4,
 "nbformat_minor": 2
}
